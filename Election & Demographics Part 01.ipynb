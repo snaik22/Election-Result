{
 "cells": [
  {
   "cell_type": "markdown",
   "metadata": {},
   "source": [
    "# Election Results and Demographics Analysis"
   ]
  },
  {
   "cell_type": "markdown",
   "metadata": {},
   "source": [
    "### 1. Introduction\n",
    "### 2. Data Cleansing and exploration\n",
    "### 3. Data Visualization\n",
    "### 4. Data Analysis"
   ]
  },
  {
   "cell_type": "markdown",
   "metadata": {},
   "source": [
    "## 1. Introduction\n",
    " This analysis is about 2018 elections held in the US. There are two datasets considered in the analysis, election results for county and county-wise demographics data that describe the poverty levels, age, education levels etc,. in the county.\n",
    " \n",
    "First, we find out how many of these attributes co-related with counties either voting Democratic or Republican. Then using the co-related attributes we can build regression and classification models to predict the number of votes each party gets also what party the county votes for."
   ]
  },
  {
   "cell_type": "code",
   "execution_count": 1,
   "metadata": {},
   "outputs": [],
   "source": [
    "import pandas as pd\n",
    "import numpy as np\n",
    "import scipy.stats as st\n",
    "import seaborn as sns\n",
    "import matplotlib.pyplot as plt\n",
    "import plotly.figure_factory as ff\n",
    "import geopandas\n",
    "import shapefile\n",
    "%matplotlib inline"
   ]
  },
  {
   "cell_type": "markdown",
   "metadata": {},
   "source": [
    "## 2. Data Cleansing and Exploration"
   ]
  },
  {
   "cell_type": "code",
   "execution_count": 2,
   "metadata": {
    "scrolled": false
   },
   "outputs": [
    {
     "data": {
      "text/html": [
       "<div>\n",
       "<style scoped>\n",
       "    .dataframe tbody tr th:only-of-type {\n",
       "        vertical-align: middle;\n",
       "    }\n",
       "\n",
       "    .dataframe tbody tr th {\n",
       "        vertical-align: top;\n",
       "    }\n",
       "\n",
       "    .dataframe thead th {\n",
       "        text-align: right;\n",
       "    }\n",
       "</style>\n",
       "<table border=\"1\" class=\"dataframe\">\n",
       "  <thead>\n",
       "    <tr style=\"text-align: right;\">\n",
       "      <th></th>\n",
       "      <th>Year</th>\n",
       "      <th>State</th>\n",
       "      <th>County</th>\n",
       "      <th>Office</th>\n",
       "      <th>Party</th>\n",
       "      <th>Votes</th>\n",
       "    </tr>\n",
       "  </thead>\n",
       "  <tbody>\n",
       "    <tr>\n",
       "      <th>0</th>\n",
       "      <td>2018</td>\n",
       "      <td>AZ</td>\n",
       "      <td>Apache County</td>\n",
       "      <td>US Senator</td>\n",
       "      <td>Democratic</td>\n",
       "      <td>16298.0</td>\n",
       "    </tr>\n",
       "    <tr>\n",
       "      <th>1</th>\n",
       "      <td>2018</td>\n",
       "      <td>AZ</td>\n",
       "      <td>Apache County</td>\n",
       "      <td>US Senator</td>\n",
       "      <td>Republican</td>\n",
       "      <td>7810.0</td>\n",
       "    </tr>\n",
       "    <tr>\n",
       "      <th>2</th>\n",
       "      <td>2018</td>\n",
       "      <td>AZ</td>\n",
       "      <td>Cochise County</td>\n",
       "      <td>US Senator</td>\n",
       "      <td>Democratic</td>\n",
       "      <td>17383.0</td>\n",
       "    </tr>\n",
       "    <tr>\n",
       "      <th>3</th>\n",
       "      <td>2018</td>\n",
       "      <td>AZ</td>\n",
       "      <td>Cochise County</td>\n",
       "      <td>US Senator</td>\n",
       "      <td>Republican</td>\n",
       "      <td>26929.0</td>\n",
       "    </tr>\n",
       "    <tr>\n",
       "      <th>4</th>\n",
       "      <td>2018</td>\n",
       "      <td>AZ</td>\n",
       "      <td>Coconino County</td>\n",
       "      <td>US Senator</td>\n",
       "      <td>Democratic</td>\n",
       "      <td>34240.0</td>\n",
       "    </tr>\n",
       "  </tbody>\n",
       "</table>\n",
       "</div>"
      ],
      "text/plain": [
       "   Year State           County      Office       Party    Votes\n",
       "0  2018    AZ    Apache County  US Senator  Democratic  16298.0\n",
       "1  2018    AZ    Apache County  US Senator  Republican   7810.0\n",
       "2  2018    AZ   Cochise County  US Senator  Democratic  17383.0\n",
       "3  2018    AZ   Cochise County  US Senator  Republican  26929.0\n",
       "4  2018    AZ  Coconino County  US Senator  Democratic  34240.0"
      ]
     },
     "execution_count": 2,
     "metadata": {},
     "output_type": "execute_result"
    }
   ],
   "source": [
    "data = pd.read_csv('election_train.csv')\n",
    "data.head()"
   ]
  },
  {
   "cell_type": "code",
   "execution_count": 3,
   "metadata": {},
   "outputs": [
    {
     "data": {
      "text/html": [
       "<div>\n",
       "<style scoped>\n",
       "    .dataframe tbody tr th:only-of-type {\n",
       "        vertical-align: middle;\n",
       "    }\n",
       "\n",
       "    .dataframe tbody tr th {\n",
       "        vertical-align: top;\n",
       "    }\n",
       "\n",
       "    .dataframe thead th {\n",
       "        text-align: right;\n",
       "    }\n",
       "</style>\n",
       "<table border=\"1\" class=\"dataframe\">\n",
       "  <thead>\n",
       "    <tr style=\"text-align: right;\">\n",
       "      <th>Party</th>\n",
       "      <th>State</th>\n",
       "      <th>County</th>\n",
       "      <th>Year</th>\n",
       "      <th>Office</th>\n",
       "      <th>Democratic</th>\n",
       "      <th>Republican</th>\n",
       "    </tr>\n",
       "  </thead>\n",
       "  <tbody>\n",
       "    <tr>\n",
       "      <th>0</th>\n",
       "      <td>AZ</td>\n",
       "      <td>Apache</td>\n",
       "      <td>2018</td>\n",
       "      <td>US Senator</td>\n",
       "      <td>16298.0</td>\n",
       "      <td>7810.0</td>\n",
       "    </tr>\n",
       "    <tr>\n",
       "      <th>1</th>\n",
       "      <td>AZ</td>\n",
       "      <td>Cochise</td>\n",
       "      <td>2018</td>\n",
       "      <td>US Senator</td>\n",
       "      <td>17383.0</td>\n",
       "      <td>26929.0</td>\n",
       "    </tr>\n",
       "    <tr>\n",
       "      <th>2</th>\n",
       "      <td>AZ</td>\n",
       "      <td>Coconino</td>\n",
       "      <td>2018</td>\n",
       "      <td>US Senator</td>\n",
       "      <td>34240.0</td>\n",
       "      <td>19249.0</td>\n",
       "    </tr>\n",
       "    <tr>\n",
       "      <th>3</th>\n",
       "      <td>AZ</td>\n",
       "      <td>Gila</td>\n",
       "      <td>2018</td>\n",
       "      <td>US Senator</td>\n",
       "      <td>7643.0</td>\n",
       "      <td>12180.0</td>\n",
       "    </tr>\n",
       "    <tr>\n",
       "      <th>4</th>\n",
       "      <td>AZ</td>\n",
       "      <td>Graham</td>\n",
       "      <td>2018</td>\n",
       "      <td>US Senator</td>\n",
       "      <td>3368.0</td>\n",
       "      <td>6870.0</td>\n",
       "    </tr>\n",
       "  </tbody>\n",
       "</table>\n",
       "</div>"
      ],
      "text/plain": [
       "Party State    County  Year      Office  Democratic  Republican\n",
       "0        AZ    Apache  2018  US Senator     16298.0      7810.0\n",
       "1        AZ   Cochise  2018  US Senator     17383.0     26929.0\n",
       "2        AZ  Coconino  2018  US Senator     34240.0     19249.0\n",
       "3        AZ      Gila  2018  US Senator      7643.0     12180.0\n",
       "4        AZ    Graham  2018  US Senator      3368.0      6870.0"
      ]
     },
     "execution_count": 3,
     "metadata": {},
     "output_type": "execute_result"
    }
   ],
   "source": [
    "# Here the 'Party' column is pivoted to change to give two new columns - 'Democratic' and 'Republican'\n",
    "data_tidy = pd.pivot_table(data = data,values='Votes',columns='Party',index=['State','County','Year','Office'],\\\n",
    "                           aggfunc=np.sum).reset_index()\n",
    "data_tidy['County'] = data_tidy['County'].apply(lambda x : x.replace(' County','')) # Whitespace removed\n",
    "data_tidy.head()"
   ]
  },
  {
   "cell_type": "code",
   "execution_count": 8,
   "metadata": {},
   "outputs": [
    {
     "data": {
      "text/html": [
       "<div>\n",
       "<style scoped>\n",
       "    .dataframe tbody tr th:only-of-type {\n",
       "        vertical-align: middle;\n",
       "    }\n",
       "\n",
       "    .dataframe tbody tr th {\n",
       "        vertical-align: top;\n",
       "    }\n",
       "\n",
       "    .dataframe thead th {\n",
       "        text-align: right;\n",
       "    }\n",
       "</style>\n",
       "<table border=\"1\" class=\"dataframe\">\n",
       "  <thead>\n",
       "    <tr style=\"text-align: right;\">\n",
       "      <th></th>\n",
       "      <th>State</th>\n",
       "      <th>County</th>\n",
       "      <th>FIPS</th>\n",
       "      <th>Total Population</th>\n",
       "      <th>Citizen Voting-Age Population</th>\n",
       "      <th>Percent White, not Hispanic or Latino</th>\n",
       "      <th>Percent Black, not Hispanic or Latino</th>\n",
       "      <th>Percent Hispanic or Latino</th>\n",
       "      <th>Percent Foreign Born</th>\n",
       "      <th>Percent Female</th>\n",
       "      <th>Percent Age 29 and Under</th>\n",
       "      <th>Percent Age 65 and Older</th>\n",
       "      <th>Median Household Income</th>\n",
       "      <th>Percent Unemployed</th>\n",
       "      <th>Percent Less than High School Degree</th>\n",
       "      <th>Percent Less than Bachelor's Degree</th>\n",
       "      <th>Percent Rural</th>\n",
       "    </tr>\n",
       "  </thead>\n",
       "  <tbody>\n",
       "    <tr>\n",
       "      <th>0</th>\n",
       "      <td>Wisconsin</td>\n",
       "      <td>La Crosse</td>\n",
       "      <td>55063</td>\n",
       "      <td>117538</td>\n",
       "      <td>0</td>\n",
       "      <td>90.537528</td>\n",
       "      <td>1.214075</td>\n",
       "      <td>1.724549</td>\n",
       "      <td>2.976059</td>\n",
       "      <td>51.171536</td>\n",
       "      <td>43.241335</td>\n",
       "      <td>14.702479</td>\n",
       "      <td>51477</td>\n",
       "      <td>4.796952</td>\n",
       "      <td>5.474767</td>\n",
       "      <td>67.529757</td>\n",
       "      <td>16.827753</td>\n",
       "    </tr>\n",
       "    <tr>\n",
       "      <th>1</th>\n",
       "      <td>Virginia</td>\n",
       "      <td>Alleghany</td>\n",
       "      <td>51005</td>\n",
       "      <td>15919</td>\n",
       "      <td>12705</td>\n",
       "      <td>91.940449</td>\n",
       "      <td>5.207614</td>\n",
       "      <td>1.432251</td>\n",
       "      <td>1.300333</td>\n",
       "      <td>51.077329</td>\n",
       "      <td>31.660280</td>\n",
       "      <td>23.902255</td>\n",
       "      <td>45538</td>\n",
       "      <td>4.560986</td>\n",
       "      <td>15.537543</td>\n",
       "      <td>83.711604</td>\n",
       "      <td>52.393846</td>\n",
       "    </tr>\n",
       "    <tr>\n",
       "      <th>2</th>\n",
       "      <td>Indiana</td>\n",
       "      <td>Fountain</td>\n",
       "      <td>18045</td>\n",
       "      <td>16741</td>\n",
       "      <td>12750</td>\n",
       "      <td>95.705155</td>\n",
       "      <td>0.400215</td>\n",
       "      <td>2.359477</td>\n",
       "      <td>1.547100</td>\n",
       "      <td>49.770026</td>\n",
       "      <td>35.899887</td>\n",
       "      <td>18.941521</td>\n",
       "      <td>45924</td>\n",
       "      <td>7.978789</td>\n",
       "      <td>12.032155</td>\n",
       "      <td>85.538940</td>\n",
       "      <td>65.951276</td>\n",
       "    </tr>\n",
       "    <tr>\n",
       "      <th>3</th>\n",
       "      <td>Ohio</td>\n",
       "      <td>Geauga</td>\n",
       "      <td>39055</td>\n",
       "      <td>94020</td>\n",
       "      <td>0</td>\n",
       "      <td>95.837056</td>\n",
       "      <td>1.256116</td>\n",
       "      <td>1.294405</td>\n",
       "      <td>2.578175</td>\n",
       "      <td>50.678579</td>\n",
       "      <td>36.281642</td>\n",
       "      <td>18.028079</td>\n",
       "      <td>74165</td>\n",
       "      <td>4.036902</td>\n",
       "      <td>8.928599</td>\n",
       "      <td>62.730824</td>\n",
       "      <td>63.968990</td>\n",
       "    </tr>\n",
       "    <tr>\n",
       "      <th>4</th>\n",
       "      <td>Wisconsin</td>\n",
       "      <td>Jackson</td>\n",
       "      <td>55053</td>\n",
       "      <td>20566</td>\n",
       "      <td>15835</td>\n",
       "      <td>86.662453</td>\n",
       "      <td>1.983857</td>\n",
       "      <td>3.082758</td>\n",
       "      <td>1.376058</td>\n",
       "      <td>46.649810</td>\n",
       "      <td>36.292911</td>\n",
       "      <td>17.587280</td>\n",
       "      <td>49608</td>\n",
       "      <td>5.569698</td>\n",
       "      <td>11.792912</td>\n",
       "      <td>86.129256</td>\n",
       "      <td>72.238251</td>\n",
       "    </tr>\n",
       "  </tbody>\n",
       "</table>\n",
       "</div>"
      ],
      "text/plain": [
       "       State     County   FIPS  Total Population  \\\n",
       "0  Wisconsin  La Crosse  55063            117538   \n",
       "1   Virginia  Alleghany  51005             15919   \n",
       "2    Indiana   Fountain  18045             16741   \n",
       "3       Ohio     Geauga  39055             94020   \n",
       "4  Wisconsin    Jackson  55053             20566   \n",
       "\n",
       "   Citizen Voting-Age Population  Percent White, not Hispanic or Latino  \\\n",
       "0                              0                              90.537528   \n",
       "1                          12705                              91.940449   \n",
       "2                          12750                              95.705155   \n",
       "3                              0                              95.837056   \n",
       "4                          15835                              86.662453   \n",
       "\n",
       "   Percent Black, not Hispanic or Latino  Percent Hispanic or Latino  \\\n",
       "0                               1.214075                    1.724549   \n",
       "1                               5.207614                    1.432251   \n",
       "2                               0.400215                    2.359477   \n",
       "3                               1.256116                    1.294405   \n",
       "4                               1.983857                    3.082758   \n",
       "\n",
       "   Percent Foreign Born  Percent Female  Percent Age 29 and Under  \\\n",
       "0              2.976059       51.171536                 43.241335   \n",
       "1              1.300333       51.077329                 31.660280   \n",
       "2              1.547100       49.770026                 35.899887   \n",
       "3              2.578175       50.678579                 36.281642   \n",
       "4              1.376058       46.649810                 36.292911   \n",
       "\n",
       "   Percent Age 65 and Older  Median Household Income  Percent Unemployed  \\\n",
       "0                 14.702479                    51477            4.796952   \n",
       "1                 23.902255                    45538            4.560986   \n",
       "2                 18.941521                    45924            7.978789   \n",
       "3                 18.028079                    74165            4.036902   \n",
       "4                 17.587280                    49608            5.569698   \n",
       "\n",
       "   Percent Less than High School Degree  Percent Less than Bachelor's Degree  \\\n",
       "0                              5.474767                            67.529757   \n",
       "1                             15.537543                            83.711604   \n",
       "2                             12.032155                            85.538940   \n",
       "3                              8.928599                            62.730824   \n",
       "4                             11.792912                            86.129256   \n",
       "\n",
       "   Percent Rural  \n",
       "0      16.827753  \n",
       "1      52.393846  \n",
       "2      65.951276  \n",
       "3      63.968990  \n",
       "4      72.238251  "
      ]
     },
     "execution_count": 8,
     "metadata": {},
     "output_type": "execute_result"
    }
   ],
   "source": [
    "demo = pd.read_csv('demographics_train.csv')\n",
    "demo.head()\n",
    "# Demographics data is explored and cleaned"
   ]
  },
  {
   "cell_type": "code",
   "execution_count": 9,
   "metadata": {},
   "outputs": [
    {
     "data": {
      "text/plain": [
       "State                                      30\n",
       "County                                    890\n",
       "FIPS                                     1216\n",
       "Total Population                         1206\n",
       "Citizen Voting-Age Population             520\n",
       "Percent White, not Hispanic or Latino    1216\n",
       "Percent Black, not Hispanic or Latino    1171\n",
       "Percent Hispanic or Latino               1212\n",
       "Percent Foreign Born                     1213\n",
       "Percent Female                           1215\n",
       "Percent Age 29 and Under                 1216\n",
       "Percent Age 65 and Older                 1216\n",
       "Median Household Income                  1196\n",
       "Percent Unemployed                       1211\n",
       "Percent Less than High School Degree     1216\n",
       "Percent Less than Bachelor's Degree      1216\n",
       "Percent Rural                             958\n",
       "dtype: int64"
      ]
     },
     "execution_count": 9,
     "metadata": {},
     "output_type": "execute_result"
    }
   ],
   "source": [
    "demo.nunique()"
   ]
  },
  {
   "cell_type": "code",
   "execution_count": 10,
   "metadata": {},
   "outputs": [],
   "source": [
    "us_state_abbrev = {\n",
    "    'Alabama': 'AL',\n",
    "    'Alaska': 'AK',\n",
    "    'Arizona': 'AZ',\n",
    "    'Arkansas': 'AR',\n",
    "    'California': 'CA',\n",
    "    'Colorado': 'CO',\n",
    "    'Connecticut': 'CT',\n",
    "    'Delaware': 'DE',\n",
    "    'District of Columbia': 'DC',\n",
    "    'Florida': 'FL',\n",
    "    'Georgia': 'GA',\n",
    "    'Hawaii': 'HI',\n",
    "    'Idaho': 'ID',\n",
    "    'Illinois': 'IL',\n",
    "    'Indiana': 'IN',\n",
    "    'Iowa': 'IA',\n",
    "    'Kansas': 'KS',\n",
    "    'Kentucky': 'KY',\n",
    "    'Louisiana': 'LA',\n",
    "    'Maine': 'ME',\n",
    "    'Maryland': 'MD',\n",
    "    'Massachusetts': 'MA',\n",
    "    'Michigan': 'MI',\n",
    "    'Minnesota': 'MN',\n",
    "    'Mississippi': 'MS',\n",
    "    'Missouri': 'MO',\n",
    "    'Montana': 'MT',\n",
    "    'Nebraska': 'NE',\n",
    "    'Nevada': 'NV',\n",
    "    'New Hampshire': 'NH',\n",
    "    'New Jersey': 'NJ',\n",
    "    'New Mexico': 'NM',\n",
    "    'New York': 'NY',\n",
    "    'North Carolina': 'NC',\n",
    "    'North Dakota': 'ND',\n",
    "    'Northern Mariana Islands':'MP',\n",
    "    'Ohio': 'OH',\n",
    "    'Oklahoma': 'OK',\n",
    "    'Oregon': 'OR',\n",
    "    'Palau': 'PW',\n",
    "    'Pennsylvania': 'PA',\n",
    "    'Puerto Rico': 'PR',\n",
    "    'Rhode Island': 'RI',\n",
    "    'South Carolina': 'SC',\n",
    "    'South Dakota': 'SD',\n",
    "    'Tennessee': 'TN',\n",
    "    'Texas': 'TX',\n",
    "    'Utah': 'UT',\n",
    "    'Vermont': 'VT',\n",
    "    'Virgin Islands': 'VI',\n",
    "    'Virginia': 'VA',\n",
    "    'Washington': 'WA',\n",
    "    'West Virginia': 'WV',\n",
    "    'Wisconsin': 'WI',\n",
    "    'Wyoming': 'WY',\n",
    "}"
   ]
  },
  {
   "cell_type": "code",
   "execution_count": 11,
   "metadata": {},
   "outputs": [],
   "source": [
    "demo['State'] = demo['State'].map(us_state_abbrev)\n",
    "demo['County'] = demo['County'].str.lower()\n",
    "data_tidy['County'] = data_tidy['County'].str.lower()"
   ]
  },
  {
   "cell_type": "markdown",
   "metadata": {},
   "source": [
    "### We merge the demographics and election results data"
   ]
  },
  {
   "cell_type": "code",
   "execution_count": 12,
   "metadata": {},
   "outputs": [
    {
     "data": {
      "text/html": [
       "<div>\n",
       "<style scoped>\n",
       "    .dataframe tbody tr th:only-of-type {\n",
       "        vertical-align: middle;\n",
       "    }\n",
       "\n",
       "    .dataframe tbody tr th {\n",
       "        vertical-align: top;\n",
       "    }\n",
       "\n",
       "    .dataframe thead th {\n",
       "        text-align: right;\n",
       "    }\n",
       "</style>\n",
       "<table border=\"1\" class=\"dataframe\">\n",
       "  <thead>\n",
       "    <tr style=\"text-align: right;\">\n",
       "      <th></th>\n",
       "      <th>State</th>\n",
       "      <th>County</th>\n",
       "      <th>Year</th>\n",
       "      <th>Office</th>\n",
       "      <th>Democratic</th>\n",
       "      <th>Republican</th>\n",
       "      <th>FIPS</th>\n",
       "      <th>Total Population</th>\n",
       "      <th>Citizen Voting-Age Population</th>\n",
       "      <th>Percent White, not Hispanic or Latino</th>\n",
       "      <th>...</th>\n",
       "      <th>Percent Hispanic or Latino</th>\n",
       "      <th>Percent Foreign Born</th>\n",
       "      <th>Percent Female</th>\n",
       "      <th>Percent Age 29 and Under</th>\n",
       "      <th>Percent Age 65 and Older</th>\n",
       "      <th>Median Household Income</th>\n",
       "      <th>Percent Unemployed</th>\n",
       "      <th>Percent Less than High School Degree</th>\n",
       "      <th>Percent Less than Bachelor's Degree</th>\n",
       "      <th>Percent Rural</th>\n",
       "    </tr>\n",
       "  </thead>\n",
       "  <tbody>\n",
       "    <tr>\n",
       "      <th>0</th>\n",
       "      <td>AZ</td>\n",
       "      <td>apache</td>\n",
       "      <td>2018</td>\n",
       "      <td>US Senator</td>\n",
       "      <td>16298.0</td>\n",
       "      <td>7810.0</td>\n",
       "      <td>4001</td>\n",
       "      <td>72346</td>\n",
       "      <td>0</td>\n",
       "      <td>18.571863</td>\n",
       "      <td>...</td>\n",
       "      <td>5.947806</td>\n",
       "      <td>1.719515</td>\n",
       "      <td>50.598513</td>\n",
       "      <td>45.854643</td>\n",
       "      <td>13.322091</td>\n",
       "      <td>32460</td>\n",
       "      <td>15.807433</td>\n",
       "      <td>21.758252</td>\n",
       "      <td>88.941063</td>\n",
       "      <td>74.061076</td>\n",
       "    </tr>\n",
       "    <tr>\n",
       "      <th>1</th>\n",
       "      <td>AZ</td>\n",
       "      <td>cochise</td>\n",
       "      <td>2018</td>\n",
       "      <td>US Senator</td>\n",
       "      <td>17383.0</td>\n",
       "      <td>26929.0</td>\n",
       "      <td>4003</td>\n",
       "      <td>128177</td>\n",
       "      <td>92915</td>\n",
       "      <td>56.299492</td>\n",
       "      <td>...</td>\n",
       "      <td>34.403208</td>\n",
       "      <td>11.458374</td>\n",
       "      <td>49.069646</td>\n",
       "      <td>37.902276</td>\n",
       "      <td>19.756275</td>\n",
       "      <td>45383</td>\n",
       "      <td>8.567108</td>\n",
       "      <td>13.409171</td>\n",
       "      <td>76.837055</td>\n",
       "      <td>36.301067</td>\n",
       "    </tr>\n",
       "    <tr>\n",
       "      <th>2</th>\n",
       "      <td>AZ</td>\n",
       "      <td>coconino</td>\n",
       "      <td>2018</td>\n",
       "      <td>US Senator</td>\n",
       "      <td>34240.0</td>\n",
       "      <td>19249.0</td>\n",
       "      <td>4005</td>\n",
       "      <td>138064</td>\n",
       "      <td>104265</td>\n",
       "      <td>54.619597</td>\n",
       "      <td>...</td>\n",
       "      <td>13.711033</td>\n",
       "      <td>4.825298</td>\n",
       "      <td>50.581614</td>\n",
       "      <td>48.946141</td>\n",
       "      <td>10.873943</td>\n",
       "      <td>51106</td>\n",
       "      <td>8.238305</td>\n",
       "      <td>11.085381</td>\n",
       "      <td>65.791439</td>\n",
       "      <td>31.466066</td>\n",
       "    </tr>\n",
       "    <tr>\n",
       "      <th>3</th>\n",
       "      <td>AZ</td>\n",
       "      <td>gila</td>\n",
       "      <td>2018</td>\n",
       "      <td>US Senator</td>\n",
       "      <td>7643.0</td>\n",
       "      <td>12180.0</td>\n",
       "      <td>4007</td>\n",
       "      <td>53179</td>\n",
       "      <td>0</td>\n",
       "      <td>63.222325</td>\n",
       "      <td>...</td>\n",
       "      <td>18.548675</td>\n",
       "      <td>4.249798</td>\n",
       "      <td>50.296170</td>\n",
       "      <td>32.238290</td>\n",
       "      <td>26.397638</td>\n",
       "      <td>40593</td>\n",
       "      <td>12.129932</td>\n",
       "      <td>15.729958</td>\n",
       "      <td>82.262624</td>\n",
       "      <td>41.062000</td>\n",
       "    </tr>\n",
       "    <tr>\n",
       "      <th>4</th>\n",
       "      <td>AZ</td>\n",
       "      <td>graham</td>\n",
       "      <td>2018</td>\n",
       "      <td>US Senator</td>\n",
       "      <td>3368.0</td>\n",
       "      <td>6870.0</td>\n",
       "      <td>4009</td>\n",
       "      <td>37529</td>\n",
       "      <td>0</td>\n",
       "      <td>51.461536</td>\n",
       "      <td>...</td>\n",
       "      <td>32.097844</td>\n",
       "      <td>4.385942</td>\n",
       "      <td>46.313518</td>\n",
       "      <td>46.393456</td>\n",
       "      <td>12.315809</td>\n",
       "      <td>47422</td>\n",
       "      <td>14.424104</td>\n",
       "      <td>14.580797</td>\n",
       "      <td>86.675944</td>\n",
       "      <td>46.437399</td>\n",
       "    </tr>\n",
       "  </tbody>\n",
       "</table>\n",
       "<p>5 rows × 21 columns</p>\n",
       "</div>"
      ],
      "text/plain": [
       "  State    County  Year      Office  Democratic  Republican  FIPS  \\\n",
       "0    AZ    apache  2018  US Senator     16298.0      7810.0  4001   \n",
       "1    AZ   cochise  2018  US Senator     17383.0     26929.0  4003   \n",
       "2    AZ  coconino  2018  US Senator     34240.0     19249.0  4005   \n",
       "3    AZ      gila  2018  US Senator      7643.0     12180.0  4007   \n",
       "4    AZ    graham  2018  US Senator      3368.0      6870.0  4009   \n",
       "\n",
       "   Total Population  Citizen Voting-Age Population  \\\n",
       "0             72346                              0   \n",
       "1            128177                          92915   \n",
       "2            138064                         104265   \n",
       "3             53179                              0   \n",
       "4             37529                              0   \n",
       "\n",
       "   Percent White, not Hispanic or Latino      ...        \\\n",
       "0                              18.571863      ...         \n",
       "1                              56.299492      ...         \n",
       "2                              54.619597      ...         \n",
       "3                              63.222325      ...         \n",
       "4                              51.461536      ...         \n",
       "\n",
       "   Percent Hispanic or Latino  Percent Foreign Born  Percent Female  \\\n",
       "0                    5.947806              1.719515       50.598513   \n",
       "1                   34.403208             11.458374       49.069646   \n",
       "2                   13.711033              4.825298       50.581614   \n",
       "3                   18.548675              4.249798       50.296170   \n",
       "4                   32.097844              4.385942       46.313518   \n",
       "\n",
       "   Percent Age 29 and Under  Percent Age 65 and Older  \\\n",
       "0                 45.854643                 13.322091   \n",
       "1                 37.902276                 19.756275   \n",
       "2                 48.946141                 10.873943   \n",
       "3                 32.238290                 26.397638   \n",
       "4                 46.393456                 12.315809   \n",
       "\n",
       "   Median Household Income  Percent Unemployed  \\\n",
       "0                    32460           15.807433   \n",
       "1                    45383            8.567108   \n",
       "2                    51106            8.238305   \n",
       "3                    40593           12.129932   \n",
       "4                    47422           14.424104   \n",
       "\n",
       "   Percent Less than High School Degree  Percent Less than Bachelor's Degree  \\\n",
       "0                             21.758252                            88.941063   \n",
       "1                             13.409171                            76.837055   \n",
       "2                             11.085381                            65.791439   \n",
       "3                             15.729958                            82.262624   \n",
       "4                             14.580797                            86.675944   \n",
       "\n",
       "   Percent Rural  \n",
       "0      74.061076  \n",
       "1      36.301067  \n",
       "2      31.466066  \n",
       "3      41.062000  \n",
       "4      46.437399  \n",
       "\n",
       "[5 rows x 21 columns]"
      ]
     },
     "execution_count": 12,
     "metadata": {},
     "output_type": "execute_result"
    }
   ],
   "source": [
    "merged_data = pd.merge(data_tidy,demo)\n",
    "merged_data.head()"
   ]
  },
  {
   "cell_type": "code",
   "execution_count": 13,
   "metadata": {},
   "outputs": [],
   "source": [
    "merged_data = merged_data.drop(columns=['Year','Office'])\n",
    "# we drop these columns as they are kind of obvious"
   ]
  },
  {
   "cell_type": "code",
   "execution_count": 14,
   "metadata": {},
   "outputs": [
    {
     "data": {
      "text/html": [
       "<div>\n",
       "<style scoped>\n",
       "    .dataframe tbody tr th:only-of-type {\n",
       "        vertical-align: middle;\n",
       "    }\n",
       "\n",
       "    .dataframe tbody tr th {\n",
       "        vertical-align: top;\n",
       "    }\n",
       "\n",
       "    .dataframe thead th {\n",
       "        text-align: right;\n",
       "    }\n",
       "</style>\n",
       "<table border=\"1\" class=\"dataframe\">\n",
       "  <thead>\n",
       "    <tr style=\"text-align: right;\">\n",
       "      <th></th>\n",
       "      <th>State</th>\n",
       "      <th>County</th>\n",
       "      <th>Democratic</th>\n",
       "      <th>Republican</th>\n",
       "      <th>FIPS</th>\n",
       "      <th>Total Population</th>\n",
       "      <th>Citizen Voting-Age Population</th>\n",
       "      <th>Percent White, not Hispanic or Latino</th>\n",
       "      <th>Percent Black, not Hispanic or Latino</th>\n",
       "      <th>Percent Hispanic or Latino</th>\n",
       "      <th>Percent Foreign Born</th>\n",
       "      <th>Percent Female</th>\n",
       "      <th>Percent Age 29 and Under</th>\n",
       "      <th>Percent Age 65 and Older</th>\n",
       "      <th>Median Household Income</th>\n",
       "      <th>Percent Unemployed</th>\n",
       "      <th>Percent Less than High School Degree</th>\n",
       "      <th>Percent Less than Bachelor's Degree</th>\n",
       "      <th>Percent Rural</th>\n",
       "    </tr>\n",
       "  </thead>\n",
       "  <tbody>\n",
       "    <tr>\n",
       "      <th>425</th>\n",
       "      <td>NE</td>\n",
       "      <td>lancaster</td>\n",
       "      <td>0.0</td>\n",
       "      <td>0.0</td>\n",
       "      <td>31109</td>\n",
       "      <td>301707</td>\n",
       "      <td>0</td>\n",
       "      <td>82.659667</td>\n",
       "      <td>3.783472</td>\n",
       "      <td>6.531834</td>\n",
       "      <td>7.523856</td>\n",
       "      <td>49.891782</td>\n",
       "      <td>45.457016</td>\n",
       "      <td>12.175057</td>\n",
       "      <td>53730</td>\n",
       "      <td>4.372984</td>\n",
       "      <td>6.636272</td>\n",
       "      <td>62.697684</td>\n",
       "      <td>8.253126</td>\n",
       "    </tr>\n",
       "    <tr>\n",
       "      <th>714</th>\n",
       "      <td>TN</td>\n",
       "      <td>meigs</td>\n",
       "      <td>0.0</td>\n",
       "      <td>0.0</td>\n",
       "      <td>47121</td>\n",
       "      <td>11804</td>\n",
       "      <td>0</td>\n",
       "      <td>94.713656</td>\n",
       "      <td>1.330058</td>\n",
       "      <td>1.465605</td>\n",
       "      <td>1.067435</td>\n",
       "      <td>50.626906</td>\n",
       "      <td>33.361572</td>\n",
       "      <td>19.662826</td>\n",
       "      <td>35209</td>\n",
       "      <td>12.544170</td>\n",
       "      <td>21.141176</td>\n",
       "      <td>91.176471</td>\n",
       "      <td>100.000000</td>\n",
       "    </tr>\n",
       "    <tr>\n",
       "      <th>750</th>\n",
       "      <td>TX</td>\n",
       "      <td>bee</td>\n",
       "      <td>0.0</td>\n",
       "      <td>0.0</td>\n",
       "      <td>48025</td>\n",
       "      <td>32706</td>\n",
       "      <td>0</td>\n",
       "      <td>32.660674</td>\n",
       "      <td>7.989360</td>\n",
       "      <td>57.909864</td>\n",
       "      <td>4.344769</td>\n",
       "      <td>39.579894</td>\n",
       "      <td>40.448236</td>\n",
       "      <td>11.514707</td>\n",
       "      <td>44005</td>\n",
       "      <td>6.065048</td>\n",
       "      <td>28.602944</td>\n",
       "      <td>91.094503</td>\n",
       "      <td>42.977308</td>\n",
       "    </tr>\n",
       "    <tr>\n",
       "      <th>865</th>\n",
       "      <td>TX</td>\n",
       "      <td>menard</td>\n",
       "      <td>0.0</td>\n",
       "      <td>0.0</td>\n",
       "      <td>48327</td>\n",
       "      <td>2163</td>\n",
       "      <td>0</td>\n",
       "      <td>56.310680</td>\n",
       "      <td>1.248266</td>\n",
       "      <td>39.389736</td>\n",
       "      <td>4.299584</td>\n",
       "      <td>46.833102</td>\n",
       "      <td>36.430883</td>\n",
       "      <td>22.468793</td>\n",
       "      <td>37917</td>\n",
       "      <td>8.360836</td>\n",
       "      <td>21.113990</td>\n",
       "      <td>84.909326</td>\n",
       "      <td>100.000000</td>\n",
       "    </tr>\n",
       "    <tr>\n",
       "      <th>1114</th>\n",
       "      <td>WI</td>\n",
       "      <td>lafayette</td>\n",
       "      <td>0.0</td>\n",
       "      <td>0.0</td>\n",
       "      <td>55065</td>\n",
       "      <td>16793</td>\n",
       "      <td>0</td>\n",
       "      <td>94.771631</td>\n",
       "      <td>0.339427</td>\n",
       "      <td>3.507414</td>\n",
       "      <td>2.286667</td>\n",
       "      <td>49.199071</td>\n",
       "      <td>37.688323</td>\n",
       "      <td>16.709343</td>\n",
       "      <td>53038</td>\n",
       "      <td>2.998885</td>\n",
       "      <td>10.123457</td>\n",
       "      <td>82.336861</td>\n",
       "      <td>100.000000</td>\n",
       "    </tr>\n",
       "  </tbody>\n",
       "</table>\n",
       "</div>"
      ],
      "text/plain": [
       "     State     County  Democratic  Republican   FIPS  Total Population  \\\n",
       "425     NE  lancaster         0.0         0.0  31109            301707   \n",
       "714     TN      meigs         0.0         0.0  47121             11804   \n",
       "750     TX        bee         0.0         0.0  48025             32706   \n",
       "865     TX     menard         0.0         0.0  48327              2163   \n",
       "1114    WI  lafayette         0.0         0.0  55065             16793   \n",
       "\n",
       "      Citizen Voting-Age Population  Percent White, not Hispanic or Latino  \\\n",
       "425                               0                              82.659667   \n",
       "714                               0                              94.713656   \n",
       "750                               0                              32.660674   \n",
       "865                               0                              56.310680   \n",
       "1114                              0                              94.771631   \n",
       "\n",
       "      Percent Black, not Hispanic or Latino  Percent Hispanic or Latino  \\\n",
       "425                                3.783472                    6.531834   \n",
       "714                                1.330058                    1.465605   \n",
       "750                                7.989360                   57.909864   \n",
       "865                                1.248266                   39.389736   \n",
       "1114                               0.339427                    3.507414   \n",
       "\n",
       "      Percent Foreign Born  Percent Female  Percent Age 29 and Under  \\\n",
       "425               7.523856       49.891782                 45.457016   \n",
       "714               1.067435       50.626906                 33.361572   \n",
       "750               4.344769       39.579894                 40.448236   \n",
       "865               4.299584       46.833102                 36.430883   \n",
       "1114              2.286667       49.199071                 37.688323   \n",
       "\n",
       "      Percent Age 65 and Older  Median Household Income  Percent Unemployed  \\\n",
       "425                  12.175057                    53730            4.372984   \n",
       "714                  19.662826                    35209           12.544170   \n",
       "750                  11.514707                    44005            6.065048   \n",
       "865                  22.468793                    37917            8.360836   \n",
       "1114                 16.709343                    53038            2.998885   \n",
       "\n",
       "      Percent Less than High School Degree  \\\n",
       "425                               6.636272   \n",
       "714                              21.141176   \n",
       "750                              28.602944   \n",
       "865                              21.113990   \n",
       "1114                             10.123457   \n",
       "\n",
       "      Percent Less than Bachelor's Degree  Percent Rural  \n",
       "425                             62.697684       8.253126  \n",
       "714                             91.176471     100.000000  \n",
       "750                             91.094503      42.977308  \n",
       "865                             84.909326     100.000000  \n",
       "1114                            82.336861     100.000000  "
      ]
     },
     "execution_count": 14,
     "metadata": {},
     "output_type": "execute_result"
    }
   ],
   "source": [
    "merged_data[merged_data['Democratic'] == 0]"
   ]
  },
  {
   "cell_type": "code",
   "execution_count": 15,
   "metadata": {},
   "outputs": [],
   "source": [
    "# Dropped these rows as they have zero as number of voters "
   ]
  },
  {
   "cell_type": "code",
   "execution_count": 16,
   "metadata": {},
   "outputs": [],
   "source": [
    "merged_data = merged_data[merged_data['Democratic']!=0]"
   ]
  },
  {
   "cell_type": "code",
   "execution_count": 17,
   "metadata": {},
   "outputs": [],
   "source": [
    "# The following code drops the 'Citizen Voting-Age Population' column. Since it's irrelevant to the data."
   ]
  },
  {
   "cell_type": "code",
   "execution_count": 18,
   "metadata": {},
   "outputs": [],
   "source": [
    "merged_data = merged_data.drop('Citizen Voting-Age Population',axis=1)"
   ]
  },
  {
   "cell_type": "markdown",
   "metadata": {},
   "source": [
    "### Creating a new column to determine what party the county voted for"
   ]
  },
  {
   "cell_type": "code",
   "execution_count": 19,
   "metadata": {},
   "outputs": [],
   "source": [
    "def party(votes):\n",
    "    if votes['Democratic'] > votes['Republican']:\n",
    "        return 1\n",
    "    else:\n",
    "        return 0"
   ]
  },
  {
   "cell_type": "code",
   "execution_count": 20,
   "metadata": {},
   "outputs": [],
   "source": [
    "merged_data['Party'] = merged_data.apply(party,axis=1)"
   ]
  },
  {
   "cell_type": "code",
   "execution_count": 21,
   "metadata": {},
   "outputs": [
    {
     "data": {
      "text/html": [
       "<div>\n",
       "<style scoped>\n",
       "    .dataframe tbody tr th:only-of-type {\n",
       "        vertical-align: middle;\n",
       "    }\n",
       "\n",
       "    .dataframe tbody tr th {\n",
       "        vertical-align: top;\n",
       "    }\n",
       "\n",
       "    .dataframe thead th {\n",
       "        text-align: right;\n",
       "    }\n",
       "</style>\n",
       "<table border=\"1\" class=\"dataframe\">\n",
       "  <thead>\n",
       "    <tr style=\"text-align: right;\">\n",
       "      <th></th>\n",
       "      <th>Democratic</th>\n",
       "      <th>Republican</th>\n",
       "      <th>Party</th>\n",
       "    </tr>\n",
       "  </thead>\n",
       "  <tbody>\n",
       "    <tr>\n",
       "      <th>0</th>\n",
       "      <td>16298.0</td>\n",
       "      <td>7810.0</td>\n",
       "      <td>1</td>\n",
       "    </tr>\n",
       "    <tr>\n",
       "      <th>1</th>\n",
       "      <td>17383.0</td>\n",
       "      <td>26929.0</td>\n",
       "      <td>0</td>\n",
       "    </tr>\n",
       "    <tr>\n",
       "      <th>2</th>\n",
       "      <td>34240.0</td>\n",
       "      <td>19249.0</td>\n",
       "      <td>1</td>\n",
       "    </tr>\n",
       "    <tr>\n",
       "      <th>3</th>\n",
       "      <td>7643.0</td>\n",
       "      <td>12180.0</td>\n",
       "      <td>0</td>\n",
       "    </tr>\n",
       "    <tr>\n",
       "      <th>4</th>\n",
       "      <td>3368.0</td>\n",
       "      <td>6870.0</td>\n",
       "      <td>0</td>\n",
       "    </tr>\n",
       "  </tbody>\n",
       "</table>\n",
       "</div>"
      ],
      "text/plain": [
       "   Democratic  Republican  Party\n",
       "0     16298.0      7810.0      1\n",
       "1     17383.0     26929.0      0\n",
       "2     34240.0     19249.0      1\n",
       "3      7643.0     12180.0      0\n",
       "4      3368.0      6870.0      0"
      ]
     },
     "execution_count": 21,
     "metadata": {},
     "output_type": "execute_result"
    }
   ],
   "source": [
    "merged_data[['Democratic','Republican','Party']].head()"
   ]
  },
  {
   "cell_type": "code",
   "execution_count": 22,
   "metadata": {},
   "outputs": [],
   "source": [
    "# Democratic Counties\n",
    "a = merged_data[merged_data['Party']==1]['Total Population']\n",
    "# Republican Counties\n",
    "b = merged_data[merged_data['Party']==0]['Total Population']"
   ]
  },
  {
   "cell_type": "markdown",
   "metadata": {},
   "source": [
    "# The following is the hypothesis test"
   ]
  },
  {
   "cell_type": "markdown",
   "metadata": {},
   "source": [
    "### Hypothesis testing to check whether the mean population of democratic countries is higher"
   ]
  },
  {
   "cell_type": "code",
   "execution_count": 23,
   "metadata": {},
   "outputs": [
    {
     "name": "stdout",
     "output_type": "stream",
     "text": [
      "8.004638577960957\n",
      "1.0239358801486512e-14\n"
     ]
    }
   ],
   "source": [
    "[statistic, pvalue] = st.ttest_ind(a, b, equal_var = False)\n",
    "print(statistic)\n",
    "print(pvalue/2)"
   ]
  },
  {
   "cell_type": "code",
   "execution_count": 24,
   "metadata": {},
   "outputs": [
    {
     "data": {
      "text/plain": [
       "True"
      ]
     },
     "execution_count": 24,
     "metadata": {},
     "output_type": "execute_result"
    }
   ],
   "source": [
    "# We set a threshold level of 5 percent. It's a two tailed statistic, hence we divide p-value by 2.\n",
    "1.0239358801486512e-14 < 0.05"
   ]
  },
  {
   "cell_type": "markdown",
   "metadata": {},
   "source": [
    "### Since the p-value is less than 0.05, we reject the null hypothesis and the difference is statistically significant. We can conclude that the alternative hypothesis provides a much better explanantion and mean population of democratic counties is higher than the republican counties."
   ]
  },
  {
   "cell_type": "markdown",
   "metadata": {},
   "source": [
    "### Hypothesis testing to check whether Median income is substantialy different for counties that vote differernt party."
   ]
  },
  {
   "cell_type": "code",
   "execution_count": 25,
   "metadata": {},
   "outputs": [
    {
     "data": {
      "text/plain": [
       "53798.732307692306"
      ]
     },
     "execution_count": 25,
     "metadata": {},
     "output_type": "execute_result"
    }
   ],
   "source": [
    "# This is the mean Median-Household Income value for the Democratic counties\n",
    "merged_data[merged_data['Party']== 1]['Median Household Income'].mean()"
   ]
  },
  {
   "cell_type": "code",
   "execution_count": 26,
   "metadata": {},
   "outputs": [
    {
     "data": {
      "text/plain": [
       "48746.81954022989"
      ]
     },
     "execution_count": 26,
     "metadata": {},
     "output_type": "execute_result"
    }
   ],
   "source": [
    "# This is the mean Median-Household Income value for the Republican counties\n",
    "merged_data[merged_data['Party']== 0]['Median Household Income'].mean()"
   ]
  },
  {
   "cell_type": "code",
   "execution_count": 27,
   "metadata": {},
   "outputs": [],
   "source": [
    "# Democratic Counties\n",
    "c = merged_data[merged_data['Party']== 1]['Median Household Income']\n",
    "# Republican Counties\n",
    "d = merged_data[merged_data['Party']== 0]['Median Household Income']"
   ]
  },
  {
   "cell_type": "code",
   "execution_count": 28,
   "metadata": {},
   "outputs": [
    {
     "name": "stdout",
     "output_type": "stream",
     "text": [
      "5.479141589767387\n",
      "3.574718681591286e-08\n"
     ]
    }
   ],
   "source": [
    "[statistic, pvalue] = st.ttest_ind(c, d, equal_var = False)\n",
    "print(statistic)\n",
    "print(pvalue/2)"
   ]
  },
  {
   "cell_type": "code",
   "execution_count": 29,
   "metadata": {},
   "outputs": [
    {
     "data": {
      "text/plain": [
       "True"
      ]
     },
     "execution_count": 29,
     "metadata": {},
     "output_type": "execute_result"
    }
   ],
   "source": [
    "3.574718681591286e-08 < 0.05"
   ]
  },
  {
   "cell_type": "markdown",
   "metadata": {},
   "source": [
    "### Since the p-value is less than 0.05, we reject the null hypothesis and the difference is statistically significant. We can conclude that the alternative hypothesis provides a much better explanantion and mean Median-Household Income of Democratic counties is higher than the Republican counties."
   ]
  },
  {
   "cell_type": "markdown",
   "metadata": {},
   "source": [
    "## We create a new Column for demographics Age 30 to 64."
   ]
  },
  {
   "cell_type": "code",
   "execution_count": 30,
   "metadata": {
    "scrolled": true
   },
   "outputs": [
    {
     "data": {
      "text/html": [
       "<div>\n",
       "<style scoped>\n",
       "    .dataframe tbody tr th:only-of-type {\n",
       "        vertical-align: middle;\n",
       "    }\n",
       "\n",
       "    .dataframe tbody tr th {\n",
       "        vertical-align: top;\n",
       "    }\n",
       "\n",
       "    .dataframe thead th {\n",
       "        text-align: right;\n",
       "    }\n",
       "</style>\n",
       "<table border=\"1\" class=\"dataframe\">\n",
       "  <thead>\n",
       "    <tr style=\"text-align: right;\">\n",
       "      <th></th>\n",
       "      <th>State</th>\n",
       "      <th>County</th>\n",
       "      <th>Democratic</th>\n",
       "      <th>Republican</th>\n",
       "      <th>FIPS</th>\n",
       "      <th>Total Population</th>\n",
       "      <th>Percent White, not Hispanic or Latino</th>\n",
       "      <th>Percent Black, not Hispanic or Latino</th>\n",
       "      <th>Percent Hispanic or Latino</th>\n",
       "      <th>Percent Foreign Born</th>\n",
       "      <th>Percent Female</th>\n",
       "      <th>Percent Age 29 and Under</th>\n",
       "      <th>Percent Age 65 and Older</th>\n",
       "      <th>Median Household Income</th>\n",
       "      <th>Percent Unemployed</th>\n",
       "      <th>Percent Less than High School Degree</th>\n",
       "      <th>Percent Less than Bachelor's Degree</th>\n",
       "      <th>Percent Rural</th>\n",
       "      <th>Party</th>\n",
       "      <th>Percent Age 30 to 64</th>\n",
       "    </tr>\n",
       "  </thead>\n",
       "  <tbody>\n",
       "    <tr>\n",
       "      <th>0</th>\n",
       "      <td>AZ</td>\n",
       "      <td>apache</td>\n",
       "      <td>16298.0</td>\n",
       "      <td>7810.0</td>\n",
       "      <td>4001</td>\n",
       "      <td>72346</td>\n",
       "      <td>18.571863</td>\n",
       "      <td>0.486551</td>\n",
       "      <td>5.947806</td>\n",
       "      <td>1.719515</td>\n",
       "      <td>50.598513</td>\n",
       "      <td>45.854643</td>\n",
       "      <td>13.322091</td>\n",
       "      <td>32460</td>\n",
       "      <td>15.807433</td>\n",
       "      <td>21.758252</td>\n",
       "      <td>88.941063</td>\n",
       "      <td>74.061076</td>\n",
       "      <td>1</td>\n",
       "      <td>40.823266</td>\n",
       "    </tr>\n",
       "    <tr>\n",
       "      <th>1</th>\n",
       "      <td>AZ</td>\n",
       "      <td>cochise</td>\n",
       "      <td>17383.0</td>\n",
       "      <td>26929.0</td>\n",
       "      <td>4003</td>\n",
       "      <td>128177</td>\n",
       "      <td>56.299492</td>\n",
       "      <td>3.714395</td>\n",
       "      <td>34.403208</td>\n",
       "      <td>11.458374</td>\n",
       "      <td>49.069646</td>\n",
       "      <td>37.902276</td>\n",
       "      <td>19.756275</td>\n",
       "      <td>45383</td>\n",
       "      <td>8.567108</td>\n",
       "      <td>13.409171</td>\n",
       "      <td>76.837055</td>\n",
       "      <td>36.301067</td>\n",
       "      <td>0</td>\n",
       "      <td>42.341450</td>\n",
       "    </tr>\n",
       "    <tr>\n",
       "      <th>2</th>\n",
       "      <td>AZ</td>\n",
       "      <td>coconino</td>\n",
       "      <td>34240.0</td>\n",
       "      <td>19249.0</td>\n",
       "      <td>4005</td>\n",
       "      <td>138064</td>\n",
       "      <td>54.619597</td>\n",
       "      <td>1.342855</td>\n",
       "      <td>13.711033</td>\n",
       "      <td>4.825298</td>\n",
       "      <td>50.581614</td>\n",
       "      <td>48.946141</td>\n",
       "      <td>10.873943</td>\n",
       "      <td>51106</td>\n",
       "      <td>8.238305</td>\n",
       "      <td>11.085381</td>\n",
       "      <td>65.791439</td>\n",
       "      <td>31.466066</td>\n",
       "      <td>1</td>\n",
       "      <td>40.179917</td>\n",
       "    </tr>\n",
       "    <tr>\n",
       "      <th>3</th>\n",
       "      <td>AZ</td>\n",
       "      <td>gila</td>\n",
       "      <td>7643.0</td>\n",
       "      <td>12180.0</td>\n",
       "      <td>4007</td>\n",
       "      <td>53179</td>\n",
       "      <td>63.222325</td>\n",
       "      <td>0.552850</td>\n",
       "      <td>18.548675</td>\n",
       "      <td>4.249798</td>\n",
       "      <td>50.296170</td>\n",
       "      <td>32.238290</td>\n",
       "      <td>26.397638</td>\n",
       "      <td>40593</td>\n",
       "      <td>12.129932</td>\n",
       "      <td>15.729958</td>\n",
       "      <td>82.262624</td>\n",
       "      <td>41.062000</td>\n",
       "      <td>0</td>\n",
       "      <td>41.364072</td>\n",
       "    </tr>\n",
       "    <tr>\n",
       "      <th>4</th>\n",
       "      <td>AZ</td>\n",
       "      <td>graham</td>\n",
       "      <td>3368.0</td>\n",
       "      <td>6870.0</td>\n",
       "      <td>4009</td>\n",
       "      <td>37529</td>\n",
       "      <td>51.461536</td>\n",
       "      <td>1.811932</td>\n",
       "      <td>32.097844</td>\n",
       "      <td>4.385942</td>\n",
       "      <td>46.313518</td>\n",
       "      <td>46.393456</td>\n",
       "      <td>12.315809</td>\n",
       "      <td>47422</td>\n",
       "      <td>14.424104</td>\n",
       "      <td>14.580797</td>\n",
       "      <td>86.675944</td>\n",
       "      <td>46.437399</td>\n",
       "      <td>0</td>\n",
       "      <td>41.290735</td>\n",
       "    </tr>\n",
       "  </tbody>\n",
       "</table>\n",
       "</div>"
      ],
      "text/plain": [
       "  State    County  Democratic  Republican  FIPS  Total Population  \\\n",
       "0    AZ    apache     16298.0      7810.0  4001             72346   \n",
       "1    AZ   cochise     17383.0     26929.0  4003            128177   \n",
       "2    AZ  coconino     34240.0     19249.0  4005            138064   \n",
       "3    AZ      gila      7643.0     12180.0  4007             53179   \n",
       "4    AZ    graham      3368.0      6870.0  4009             37529   \n",
       "\n",
       "   Percent White, not Hispanic or Latino  \\\n",
       "0                              18.571863   \n",
       "1                              56.299492   \n",
       "2                              54.619597   \n",
       "3                              63.222325   \n",
       "4                              51.461536   \n",
       "\n",
       "   Percent Black, not Hispanic or Latino  Percent Hispanic or Latino  \\\n",
       "0                               0.486551                    5.947806   \n",
       "1                               3.714395                   34.403208   \n",
       "2                               1.342855                   13.711033   \n",
       "3                               0.552850                   18.548675   \n",
       "4                               1.811932                   32.097844   \n",
       "\n",
       "   Percent Foreign Born  Percent Female  Percent Age 29 and Under  \\\n",
       "0              1.719515       50.598513                 45.854643   \n",
       "1             11.458374       49.069646                 37.902276   \n",
       "2              4.825298       50.581614                 48.946141   \n",
       "3              4.249798       50.296170                 32.238290   \n",
       "4              4.385942       46.313518                 46.393456   \n",
       "\n",
       "   Percent Age 65 and Older  Median Household Income  Percent Unemployed  \\\n",
       "0                 13.322091                    32460           15.807433   \n",
       "1                 19.756275                    45383            8.567108   \n",
       "2                 10.873943                    51106            8.238305   \n",
       "3                 26.397638                    40593           12.129932   \n",
       "4                 12.315809                    47422           14.424104   \n",
       "\n",
       "   Percent Less than High School Degree  Percent Less than Bachelor's Degree  \\\n",
       "0                             21.758252                            88.941063   \n",
       "1                             13.409171                            76.837055   \n",
       "2                             11.085381                            65.791439   \n",
       "3                             15.729958                            82.262624   \n",
       "4                             14.580797                            86.675944   \n",
       "\n",
       "   Percent Rural  Party  Percent Age 30 to 64  \n",
       "0      74.061076      1             40.823266  \n",
       "1      36.301067      0             42.341450  \n",
       "2      31.466066      1             40.179917  \n",
       "3      41.062000      0             41.364072  \n",
       "4      46.437399      0             41.290735  "
      ]
     },
     "execution_count": 30,
     "metadata": {},
     "output_type": "execute_result"
    }
   ],
   "source": [
    "merged_data['Percent Age 30 to 64'] = 100 - merged_data['Percent Age 29 and Under'] - merged_data['Percent Age 65 and Older']\n",
    "merged_data.head()"
   ]
  },
  {
   "cell_type": "markdown",
   "metadata": {},
   "source": [
    "## Exploration of Age attribute"
   ]
  },
  {
   "cell_type": "code",
   "execution_count": 31,
   "metadata": {},
   "outputs": [
    {
     "data": {
      "text/plain": [
       "count    325.000000\n",
       "mean      38.726959\n",
       "std        6.252786\n",
       "min       23.156452\n",
       "25%       34.488444\n",
       "50%       38.074151\n",
       "75%       42.161162\n",
       "max       67.367823\n",
       "Name: Percent Age 29 and Under, dtype: float64"
      ]
     },
     "execution_count": 31,
     "metadata": {},
     "output_type": "execute_result"
    }
   ],
   "source": [
    "# 1 is Democratic. 0 is Republican\n",
    "# Democratic - 29 and under\n",
    "merged_data[merged_data['Party'] == 1]['Percent Age 29 and Under'].describe()"
   ]
  },
  {
   "cell_type": "code",
   "execution_count": 32,
   "metadata": {
    "scrolled": true
   },
   "outputs": [
    {
     "data": {
      "text/plain": [
       "count    870.000000\n",
       "mean      36.005719\n",
       "std        5.181522\n",
       "min       11.842105\n",
       "25%       32.983652\n",
       "50%       35.846532\n",
       "75%       38.539787\n",
       "max       58.749116\n",
       "Name: Percent Age 29 and Under, dtype: float64"
      ]
     },
     "execution_count": 32,
     "metadata": {},
     "output_type": "execute_result"
    }
   ],
   "source": [
    "# Republican 29 and under\n",
    "merged_data[merged_data['Party'] == 0]['Percent Age 29 and Under'].describe()"
   ]
  },
  {
   "cell_type": "code",
   "execution_count": 33,
   "metadata": {
    "scrolled": true
   },
   "outputs": [
    {
     "data": {
      "text/plain": [
       "count    325.000000\n",
       "mean      45.078214\n",
       "std        3.907598\n",
       "min       18.433769\n",
       "25%       43.741937\n",
       "50%       45.817819\n",
       "75%       47.448269\n",
       "max       57.478906\n",
       "Name: Percent Age 30 to 64, dtype: float64"
      ]
     },
     "execution_count": 33,
     "metadata": {},
     "output_type": "execute_result"
    }
   ],
   "source": [
    "# Democratic  Age 30 - 64\n",
    "merged_data[merged_data['Party'] == 1]['Percent Age 30 to 64'].describe()"
   ]
  },
  {
   "cell_type": "code",
   "execution_count": 34,
   "metadata": {},
   "outputs": [
    {
     "data": {
      "text/plain": [
       "count    870.000000\n",
       "mean      45.166015\n",
       "std        2.910264\n",
       "min       27.421759\n",
       "25%       43.522522\n",
       "50%       45.553295\n",
       "75%       46.975771\n",
       "max       63.157895\n",
       "Name: Percent Age 30 to 64, dtype: float64"
      ]
     },
     "execution_count": 34,
     "metadata": {},
     "output_type": "execute_result"
    }
   ],
   "source": [
    "# Republican Age 30 - 64\n",
    "merged_data[merged_data['Party'] == 0]['Percent Age 30 to 64'].describe()"
   ]
  },
  {
   "cell_type": "code",
   "execution_count": 35,
   "metadata": {
    "scrolled": true
   },
   "outputs": [
    {
     "data": {
      "text/plain": [
       "count    325.000000\n",
       "mean      16.194826\n",
       "std        4.282422\n",
       "min        6.653188\n",
       "25%       13.106233\n",
       "50%       15.698087\n",
       "75%       18.806426\n",
       "max       31.642106\n",
       "Name: Percent Age 65 and Older, dtype: float64"
      ]
     },
     "execution_count": 35,
     "metadata": {},
     "output_type": "execute_result"
    }
   ],
   "source": [
    "# Democratic Age 65+\n",
    "merged_data[merged_data['Party'] == 1]['Percent Age 65 and Older'].describe()"
   ]
  },
  {
   "cell_type": "code",
   "execution_count": 36,
   "metadata": {
    "scrolled": true
   },
   "outputs": [
    {
     "data": {
      "text/plain": [
       "count    870.000000\n",
       "mean      18.828267\n",
       "std        4.733155\n",
       "min        6.954387\n",
       "25%       15.784982\n",
       "50%       18.377896\n",
       "75%       21.112847\n",
       "max       37.622759\n",
       "Name: Percent Age 65 and Older, dtype: float64"
      ]
     },
     "execution_count": 36,
     "metadata": {},
     "output_type": "execute_result"
    }
   ],
   "source": [
    "# Republican Age 65+\n",
    "merged_data[merged_data['Party'] == 0]['Percent Age 65 and Older'].describe()"
   ]
  },
  {
   "cell_type": "code",
   "execution_count": 37,
   "metadata": {},
   "outputs": [
    {
     "data": {
      "text/plain": [
       "<matplotlib.axes._subplots.AxesSubplot at 0x128e18c50>"
      ]
     },
     "execution_count": 37,
     "metadata": {},
     "output_type": "execute_result"
    },
    {
     "data": {
      "image/png": "[encoded data removed]",
      "text/plain": [
       "<Figure size 1080x576 with 3 Axes>"
      ]
     },
     "metadata": {
      "needs_background": "light"
     },
     "output_type": "display_data"
    }
   ],
   "source": [
    "fig,ax = plt.subplots(1,3,figsize=(15,8))\n",
    "sns.set()\n",
    "sns.boxplot(x = 'Party', y= 'Percent Age 29 and Under' , data = merged_data,ax=ax[0])\n",
    "sns.boxplot(x = 'Party', y= 'Percent Age 30 to 64' , data = merged_data,ax=ax[1])\n",
    "sns.boxplot(x = 'Party', y= 'Percent Age 65 and Older' , data = merged_data,ax=ax[2])"
   ]
  },
  {
   "cell_type": "markdown",
   "metadata": {},
   "source": [
    "### In the above plots '1' corresponds to Democratic and '0' corresponds to Republic. From exploring data and the visualisation we can conclude that counties that are younger tend to vote for Democratic and older ones vote for Republic"
   ]
  },
  {
   "cell_type": "markdown",
   "metadata": {},
   "source": [
    "## Exploration of Gender attribute"
   ]
  },
  {
   "cell_type": "code",
   "execution_count": 38,
   "metadata": {},
   "outputs": [
    {
     "data": {
      "text/plain": [
       "count    325.000000\n",
       "mean      50.385433\n",
       "std        2.149359\n",
       "min       34.245291\n",
       "25%       49.854280\n",
       "50%       50.653830\n",
       "75%       51.492075\n",
       "max       56.418468\n",
       "Name: Percent Female, dtype: float64"
      ]
     },
     "execution_count": 38,
     "metadata": {},
     "output_type": "execute_result"
    }
   ],
   "source": [
    "#Democratic\n",
    "merged_data[merged_data['Party'] == 1]['Percent Female'].describe()"
   ]
  },
  {
   "cell_type": "code",
   "execution_count": 39,
   "metadata": {},
   "outputs": [
    {
     "data": {
      "text/plain": [
       "count    870.000000\n",
       "mean      49.630898\n",
       "std        2.429013\n",
       "min       21.513413\n",
       "25%       49.222905\n",
       "50%       50.176792\n",
       "75%       50.829770\n",
       "max       55.885023\n",
       "Name: Percent Female, dtype: float64"
      ]
     },
     "execution_count": 39,
     "metadata": {},
     "output_type": "execute_result"
    }
   ],
   "source": [
    "#Republican\n",
    "merged_data[merged_data['Party'] == 0]['Percent Female'].describe()"
   ]
  },
  {
   "cell_type": "code",
   "execution_count": 40,
   "metadata": {},
   "outputs": [],
   "source": [
    "# Male data \n",
    "merged_data['Percent male'] = 100 - merged_data['Percent Female']"
   ]
  },
  {
   "cell_type": "code",
   "execution_count": 41,
   "metadata": {},
   "outputs": [
    {
     "data": {
      "text/plain": [
       "count    325.000000\n",
       "mean      49.614567\n",
       "std        2.149359\n",
       "min       43.581532\n",
       "25%       48.507925\n",
       "50%       49.346170\n",
       "75%       50.145720\n",
       "max       65.754709\n",
       "Name: Percent male, dtype: float64"
      ]
     },
     "execution_count": 41,
     "metadata": {},
     "output_type": "execute_result"
    }
   ],
   "source": [
    "#Democratic\n",
    "merged_data[merged_data['Party'] == 1]['Percent male'].describe()"
   ]
  },
  {
   "cell_type": "code",
   "execution_count": 42,
   "metadata": {},
   "outputs": [
    {
     "data": {
      "text/plain": [
       "count    870.000000\n",
       "mean      50.369102\n",
       "std        2.429013\n",
       "min       44.114977\n",
       "25%       49.170230\n",
       "50%       49.823208\n",
       "75%       50.777095\n",
       "max       78.486587\n",
       "Name: Percent male, dtype: float64"
      ]
     },
     "execution_count": 42,
     "metadata": {},
     "output_type": "execute_result"
    }
   ],
   "source": [
    "#Republican\n",
    "merged_data[merged_data['Party'] == 0]['Percent male'].describe()"
   ]
  },
  {
   "cell_type": "code",
   "execution_count": 43,
   "metadata": {},
   "outputs": [
    {
     "data": {
      "text/plain": [
       "<matplotlib.axes._subplots.AxesSubplot at 0x129a88898>"
      ]
     },
     "execution_count": 43,
     "metadata": {},
     "output_type": "execute_result"
    },
    {
     "data": {
      "image/png": "[encoded data removed]",
      "text/plain": [
       "<Figure size 720x576 with 2 Axes>"
      ]
     },
     "metadata": {},
     "output_type": "display_data"
    }
   ],
   "source": [
    "fig,ax = plt.subplots(1,2,figsize=(10,8))\n",
    "sns.set()\n",
    "sns.boxplot(x = 'Party', y= 'Percent Female' , data = merged_data,ax=ax[0])\n",
    "sns.boxplot(x = 'Party', y= 'Percent male' , data = merged_data,ax=ax[1])"
   ]
  },
  {
   "cell_type": "markdown",
   "metadata": {},
   "source": [
    "### From the data we can conclude that gender doesn't affect in a county voting either party."
   ]
  },
  {
   "cell_type": "markdown",
   "metadata": {},
   "source": [
    "## Exploration of Race attribute"
   ]
  },
  {
   "cell_type": "code",
   "execution_count": 44,
   "metadata": {},
   "outputs": [
    {
     "data": {
      "text/plain": [
       "count    325.000000\n",
       "mean      69.683766\n",
       "std       24.981502\n",
       "min        2.776702\n",
       "25%       53.271579\n",
       "50%       77.786090\n",
       "75%       90.300749\n",
       "max       98.063495\n",
       "Name: Percent White, not Hispanic or Latino, dtype: float64"
      ]
     },
     "execution_count": 44,
     "metadata": {},
     "output_type": "execute_result"
    }
   ],
   "source": [
    "#Democratic\n",
    "merged_data[merged_data['Party'] == 1]['Percent White, not Hispanic or Latino'].describe()"
   ]
  },
  {
   "cell_type": "code",
   "execution_count": 45,
   "metadata": {},
   "outputs": [
    {
     "data": {
      "text/plain": [
       "count    870.000000\n",
       "mean      82.656646\n",
       "std       16.056122\n",
       "min       18.758977\n",
       "25%       75.016397\n",
       "50%       89.434849\n",
       "75%       94.466596\n",
       "max       99.627329\n",
       "Name: Percent White, not Hispanic or Latino, dtype: float64"
      ]
     },
     "execution_count": 45,
     "metadata": {},
     "output_type": "execute_result"
    }
   ],
   "source": [
    "#Republican\n",
    "merged_data[merged_data['Party'] == 0]['Percent White, not Hispanic or Latino'].describe()"
   ]
  },
  {
   "cell_type": "code",
   "execution_count": 46,
   "metadata": {},
   "outputs": [
    {
     "data": {
      "text/plain": [
       "count    325.000000\n",
       "mean       9.242649\n",
       "std       13.351340\n",
       "min        0.000000\n",
       "25%        0.839103\n",
       "50%        3.485992\n",
       "75%       11.058843\n",
       "max       63.953279\n",
       "Name: Percent Black, not Hispanic or Latino, dtype: float64"
      ]
     },
     "execution_count": 46,
     "metadata": {},
     "output_type": "execute_result"
    }
   ],
   "source": [
    "#Democratic\n",
    "merged_data[merged_data['Party'] == 1]['Percent Black, not Hispanic or Latino'].describe()"
   ]
  },
  {
   "cell_type": "code",
   "execution_count": 47,
   "metadata": {},
   "outputs": [
    {
     "data": {
      "text/plain": [
       "count    870.000000\n",
       "mean       4.189241\n",
       "std        6.721695\n",
       "min        0.000000\n",
       "25%        0.460419\n",
       "50%        1.318311\n",
       "75%        4.753831\n",
       "max       41.563041\n",
       "Name: Percent Black, not Hispanic or Latino, dtype: float64"
      ]
     },
     "execution_count": 47,
     "metadata": {},
     "output_type": "execute_result"
    }
   ],
   "source": [
    "#Republican\n",
    "merged_data[merged_data['Party'] == 0]['Percent Black, not Hispanic or Latino'].describe()"
   ]
  },
  {
   "cell_type": "code",
   "execution_count": 48,
   "metadata": {
    "scrolled": true
   },
   "outputs": [
    {
     "data": {
      "text/plain": [
       "count    325.000000\n",
       "mean      12.587391\n",
       "std       19.575030\n",
       "min        0.193349\n",
       "25%        2.531017\n",
       "50%        5.039747\n",
       "75%       11.857116\n",
       "max       95.479801\n",
       "Name: Percent Hispanic or Latino, dtype: float64"
      ]
     },
     "execution_count": 48,
     "metadata": {},
     "output_type": "execute_result"
    }
   ],
   "source": [
    "#Democratic\n",
    "merged_data[merged_data['Party'] == 1]['Percent Hispanic or Latino'].describe()"
   ]
  },
  {
   "cell_type": "code",
   "execution_count": 49,
   "metadata": {},
   "outputs": [
    {
     "data": {
      "text/plain": [
       "count    870.000000\n",
       "mean       9.733094\n",
       "std       14.049576\n",
       "min        0.000000\n",
       "25%        1.704539\n",
       "50%        3.427435\n",
       "75%       10.709696\n",
       "max       78.397012\n",
       "Name: Percent Hispanic or Latino, dtype: float64"
      ]
     },
     "execution_count": 49,
     "metadata": {},
     "output_type": "execute_result"
    }
   ],
   "source": [
    "#Republican\n",
    "merged_data[merged_data['Party'] == 0]['Percent Hispanic or Latino'].describe()"
   ]
  },
  {
   "cell_type": "code",
   "execution_count": 50,
   "metadata": {},
   "outputs": [],
   "source": [
    "#OTHER RACES\n",
    "merged_data['Percent Other Race'] =  100 -(merged_data['Percent White, not Hispanic or Latino'] + merged_data['Percent Black, not Hispanic or Latino'] + merged_data['Percent Hispanic or Latino'])"
   ]
  },
  {
   "cell_type": "code",
   "execution_count": 51,
   "metadata": {},
   "outputs": [
    {
     "data": {
      "text/plain": [
       "count    3.250000e+02\n",
       "mean     8.486194e+00\n",
       "std      1.317655e+01\n",
       "min      1.999993e-09\n",
       "25%      2.844924e+00\n",
       "50%      4.954669e+00\n",
       "75%      7.634006e+00\n",
       "max      8.490016e+01\n",
       "Name: Percent Other Race, dtype: float64"
      ]
     },
     "execution_count": 51,
     "metadata": {},
     "output_type": "execute_result"
    }
   ],
   "source": [
    "#Democratic\n",
    "merged_data[merged_data['Party'] == 1]['Percent Other Race'].describe()"
   ]
  },
  {
   "cell_type": "code",
   "execution_count": 52,
   "metadata": {},
   "outputs": [
    {
     "data": {
      "text/plain": [
       "count    870.000000\n",
       "mean       3.421018\n",
       "std        3.873292\n",
       "min        0.000000\n",
       "25%        1.758534\n",
       "50%        2.482868\n",
       "75%        3.632770\n",
       "max       49.407979\n",
       "Name: Percent Other Race, dtype: float64"
      ]
     },
     "execution_count": 52,
     "metadata": {},
     "output_type": "execute_result"
    }
   ],
   "source": [
    "#Republican\n",
    "merged_data[merged_data['Party'] == 0]['Percent Other Race'].describe()"
   ]
  },
  {
   "cell_type": "code",
   "execution_count": 53,
   "metadata": {
    "scrolled": false
   },
   "outputs": [
    {
     "data": {
      "image/png": "[encoded data removed]",
      "text/plain": [
       "<Figure size 1080x720 with 4 Axes>"
      ]
     },
     "metadata": {},
     "output_type": "display_data"
    }
   ],
   "source": [
    "fig,ax = plt.subplots(1,4,figsize=(15,10))\n",
    "sns.boxplot(x = 'Party', y= 'Percent White, not Hispanic or Latino' , data = merged_data,ax=ax[0])\n",
    "sns.boxplot(x = 'Party', y= 'Percent Black, not Hispanic or Latino' , data = merged_data,ax=ax[1])\n",
    "sns.boxplot(x = 'Party', y= 'Percent Hispanic or Latino' , data = merged_data,ax=ax[2])\n",
    "sns.boxplot(x = 'Party', y= 'Percent Other Race' , data = merged_data,ax=ax[3])\n",
    "plt.tight_layout()"
   ]
  },
  {
   "cell_type": "markdown",
   "metadata": {},
   "source": [
    "### From the visualisation we can conclude that 'White, not hispanic, nor latino' is more likely to vite for Republican party"
   ]
  },
  {
   "cell_type": "markdown",
   "metadata": {},
   "source": [
    "## Ethnicity"
   ]
  },
  {
   "cell_type": "code",
   "execution_count": 72,
   "metadata": {
    "scrolled": true
   },
   "outputs": [
    {
     "data": {
      "text/plain": [
       "count    325.000000\n",
       "mean       7.986330\n",
       "std        8.330740\n",
       "min        0.179769\n",
       "25%        2.470508\n",
       "50%        5.105490\n",
       "75%       10.144555\n",
       "max       52.229868\n",
       "Name: Percent Foreign Born, dtype: float64"
      ]
     },
     "execution_count": 72,
     "metadata": {},
     "output_type": "execute_result"
    }
   ],
   "source": [
    "#Democratic\n",
    "merged_data[merged_data['Party'] == 1]['Percent Foreign Born'].describe()"
   ]
  },
  {
   "cell_type": "code",
   "execution_count": 73,
   "metadata": {},
   "outputs": [
    {
     "data": {
      "text/plain": [
       "count    870.000000\n",
       "mean       3.990096\n",
       "std        4.507786\n",
       "min        0.000000\n",
       "25%        1.320101\n",
       "50%        2.326317\n",
       "75%        5.149429\n",
       "max       37.058317\n",
       "Name: Percent Foreign Born, dtype: float64"
      ]
     },
     "execution_count": 73,
     "metadata": {},
     "output_type": "execute_result"
    }
   ],
   "source": [
    "#Republican\n",
    "merged_data[merged_data['Party'] == 0]['Percent Foreign Born'].describe()"
   ]
  },
  {
   "cell_type": "code",
   "execution_count": 74,
   "metadata": {
    "scrolled": false
   },
   "outputs": [
    {
     "data": {
      "text/plain": [
       "<matplotlib.axes._subplots.AxesSubplot at 0x1c290c6cc0>"
      ]
     },
     "execution_count": 74,
     "metadata": {},
     "output_type": "execute_result"
    },
    {
     "data": {
      "image/png": "[encoded data removed]",
      "text/plain": [
       "<Figure size 360x720 with 1 Axes>"
      ]
     },
     "metadata": {},
     "output_type": "display_data"
    }
   ],
   "source": [
    "fig,ax = plt.subplots(figsize=(5,10))\n",
    "sns.boxplot(x = 'Party', y= 'Percent Foreign Born' , data = merged_data)"
   ]
  },
  {
   "cell_type": "markdown",
   "metadata": {},
   "source": [
    "### From the above plot we can conclude Foreign born are more likely to vote for Democratic party."
   ]
  },
  {
   "cell_type": "markdown",
   "metadata": {},
   "source": [
    "## Education"
   ]
  },
  {
   "cell_type": "code",
   "execution_count": 75,
   "metadata": {},
   "outputs": [
    {
     "data": {
      "text/plain": [
       "count    325.000000\n",
       "mean      11.883760\n",
       "std        6.505613\n",
       "min        3.215803\n",
       "25%        7.893714\n",
       "50%       10.370080\n",
       "75%       13.637059\n",
       "max       49.673777\n",
       "Name: Percent Less than High School Degree, dtype: float64"
      ]
     },
     "execution_count": 75,
     "metadata": {},
     "output_type": "execute_result"
    }
   ],
   "source": [
    "#Democratic\n",
    "merged_data[merged_data['Party'] == 1]['Percent Less than High School Degree'].describe()"
   ]
  },
  {
   "cell_type": "code",
   "execution_count": 76,
   "metadata": {},
   "outputs": [
    {
     "data": {
      "text/plain": [
       "count    870.000000\n",
       "mean      14.009112\n",
       "std        6.303126\n",
       "min        2.134454\n",
       "25%        9.662491\n",
       "50%       12.572435\n",
       "75%       17.447168\n",
       "max       47.812773\n",
       "Name: Percent Less than High School Degree, dtype: float64"
      ]
     },
     "execution_count": 76,
     "metadata": {},
     "output_type": "execute_result"
    }
   ],
   "source": [
    "#Republican\n",
    "merged_data[merged_data['Party'] == 0]['Percent Less than High School Degree'].describe()"
   ]
  },
  {
   "cell_type": "code",
   "execution_count": 77,
   "metadata": {},
   "outputs": [
    {
     "data": {
      "text/plain": [
       "count    325.000000\n",
       "mean      71.968225\n",
       "std       11.192404\n",
       "min       26.335440\n",
       "25%       65.711800\n",
       "50%       72.736143\n",
       "75%       79.903653\n",
       "max       94.849957\n",
       "Name: Percent Less than Bachelor's Degree, dtype: float64"
      ]
     },
     "execution_count": 77,
     "metadata": {},
     "output_type": "execute_result"
    }
   ],
   "source": [
    "#Democratic\n",
    "merged_data[merged_data['Party'] == 1][\"Percent Less than Bachelor's Degree\"].describe()"
   ]
  },
  {
   "cell_type": "code",
   "execution_count": 78,
   "metadata": {},
   "outputs": [
    {
     "data": {
      "text/plain": [
       "count    870.000000\n",
       "mean      81.095427\n",
       "std        6.815537\n",
       "min       43.419470\n",
       "25%       78.108424\n",
       "50%       82.406700\n",
       "75%       85.546272\n",
       "max       97.014925\n",
       "Name: Percent Less than Bachelor's Degree, dtype: float64"
      ]
     },
     "execution_count": 78,
     "metadata": {},
     "output_type": "execute_result"
    }
   ],
   "source": [
    "#Republican\n",
    "merged_data[merged_data['Party'] == 0][\"Percent Less than Bachelor's Degree\"].describe()"
   ]
  },
  {
   "cell_type": "code",
   "execution_count": 91,
   "metadata": {
    "scrolled": false
   },
   "outputs": [
    {
     "data": {
      "text/plain": [
       "<matplotlib.axes._subplots.AxesSubplot at 0x1c2dfa3be0>"
      ]
     },
     "execution_count": 91,
     "metadata": {},
     "output_type": "execute_result"
    },
    {
     "data": {
      "image/png": "[encoded data removed]",
      "text/plain": [
       "<Figure size 720x504 with 2 Axes>"
      ]
     },
     "metadata": {},
     "output_type": "display_data"
    }
   ],
   "source": [
    "fig,ax = plt.subplots(1,2,figsize=(10,7))\n",
    "\n",
    "sns.boxplot(x = 'Party', y= 'Percent Less than High School Degree' , data = merged_data,ax=ax[0])\n",
    "sns.boxplot(x = 'Party', y= \"Percent Less than Bachelor's Degree\" , data = merged_data,ax=ax[1])\n"
   ]
  },
  {
   "cell_type": "markdown",
   "metadata": {},
   "source": [
    "### Below are the plots for 'HighschoolOrHigher' and 'BachelorsOrHigher'"
   ]
  },
  {
   "cell_type": "code",
   "execution_count": 93,
   "metadata": {},
   "outputs": [
    {
     "data": {
      "text/plain": [
       "<matplotlib.axes._subplots.AxesSubplot at 0x1c29f97f98>"
      ]
     },
     "execution_count": 93,
     "metadata": {},
     "output_type": "execute_result"
    },
    {
     "data": {
      "image/png": "[encoded data removed]",
      "text/plain": [
       "<Figure size 720x504 with 2 Axes>"
      ]
     },
     "metadata": {},
     "output_type": "display_data"
    }
   ],
   "source": [
    "HighschoolOrHigher = pd.concat([merged_data['Percent Less than High School Degree'].map(lambda x:(100-x)).rename('Percent Higher than or equal to High School Degree')\\\n",
    "                                ,merged_data['Party']],axis=1)\n",
    "BachelorsOrHigher = pd.concat([merged_data[\"Percent Less than Bachelor's Degree\"].map(lambda x:(100-x)).rename('Percent Higher than or equal to Bachelor')\\\n",
    "                               ,merged_data['Party']],axis=1)\n",
    "fig,ax = plt.subplots(1,2,figsize=(10,7))\n",
    "sns.boxplot(x = 'Party', y= 'Percent Higher than or equal to High School Degree' , data = HighschoolOrHigher,ax=ax[0])\n",
    "sns.boxplot(x = 'Party', y= 'Percent Higher than or equal to Bachelor' , data = BachelorsOrHigher,ax=ax[1])\n"
   ]
  },
  {
   "cell_type": "markdown",
   "metadata": {},
   "source": [
    "### From this plot we conclude that higher a county has percentage of degree more likely it's to vote Democratic"
   ]
  }
 ],
 "metadata": {
  "kernelspec": {
   "display_name": "Python 3",
   "language": "python",
   "name": "python3"
  },
  "language_info": {
   "codemirror_mode": {
    "name": "ipython",
    "version": 3
   },
   "file_extension": ".py",
   "mimetype": "text/x-python",
   "name": "python",
   "nbconvert_exporter": "python",
   "pygments_lexer": "ipython3",
   "version": "3.6.5"
  }
 },
 "nbformat": 4,
 "nbformat_minor": 4
}
